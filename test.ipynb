{
 "cells": [
  {
   "cell_type": "code",
   "id": "initial_id",
   "metadata": {
    "ExecuteTime": {
     "end_time": "2024-10-20T05:37:01.047630Z",
     "start_time": "2024-10-20T05:36:59.920957Z"
    }
   },
   "source": [
    "import numpy as np\n",
    "import pandas as pd\n",
    "import gzip\n",
    "from sklearn import svm\n",
    "import cv2\n",
    "from sklearn.metrics import accuracy_score\n",
    "from sklearn.utils import  shuffle"
   ],
   "outputs": [],
   "execution_count": 1
  },
  {
   "cell_type": "code",
   "id": "58a9e3bc72072b1f",
   "metadata": {
    "ExecuteTime": {
     "end_time": "2024-10-20T05:37:01.683448Z",
     "start_time": "2024-10-20T05:37:01.048633Z"
    }
   },
   "source": [
    "def load_images(file_path):\n",
    "    with gzip.open(file_path, 'rb') as f:\n",
    "        images = np.frombuffer(f.read(), np.uint8, offset=16)\n",
    "    return images.reshape(-1, 28, 28)/255.0\n",
    "\n",
    "\n",
    "def load_labels(file_path):\n",
    "    with gzip.open(file_path, 'rb') as f:\n",
    "        labels = np.frombuffer(f.read(), np.uint8, offset=8)\n",
    "    return labels\n",
    "\n",
    "\n",
    "train_images = load_images('手写数字/train-images-idx3-ubyte.gz')\n",
    "train_labels = load_labels('手写数字/train-labels-idx1-ubyte.gz')\n",
    "test_images = load_images('手写数字/t10k-images-idx3-ubyte.gz')\n",
    "test_labels = load_labels('手写数字/t10k-labels-idx1-ubyte.gz')\n",
    "\n",
    "train_images,train_labels=shuffle(train_images,train_labels,random_state=42)\n",
    "test_images, test_labels = shuffle(test_images, test_labels, random_state=42)\n"
   ],
   "outputs": [],
   "execution_count": 2
  },
  {
   "metadata": {
    "ExecuteTime": {
     "end_time": "2024-10-20T05:37:01.985572Z",
     "start_time": "2024-10-20T05:37:01.684448Z"
    }
   },
   "cell_type": "code",
   "source": [
    "# 创建空数组用于存放调整后的图像\n",
    "train_images_resized = np.zeros((train_images.shape[0], 20, 20))\n",
    "\n",
    "for i in range(train_images.shape[0]):\n",
    "    # 使用 OpenCV 进行缩放\n",
    "    train_images_resized[i] = cv2.resize(train_images[i], (20, 20))\n",
    "\n",
    "# 创建空数组用于存放调整后的图像\n",
    "test_images_resized = np.zeros((test_images.shape[0], 20, 20))\n",
    "\n",
    "for i in range(test_images.shape[0]):\n",
    "    # 使用 OpenCV 进行缩放\n",
    "    test_images_resized[i] = cv2.resize(test_images[i], (20, 20))"
   ],
   "id": "2552d5f01a91d74c",
   "outputs": [],
   "execution_count": 3
  },
  {
   "metadata": {
    "ExecuteTime": {
     "end_time": "2024-10-20T05:37:11.662961Z",
     "start_time": "2024-10-20T05:37:11.557938Z"
    }
   },
   "cell_type": "code",
   "source": [
    "import matplotlib.pyplot as plt\n",
    "\n",
    "plt.imshow(train_images_resized[7],cmap='gray')\n",
    "plt.show()"
   ],
   "id": "b5cb783531c521bf",
   "outputs": [
    {
     "data": {
      "text/plain": [
       "<Figure size 640x480 with 1 Axes>"
      ],
      "image/png": "[encoded data removed]"
     },
     "metadata": {},
     "output_type": "display_data"
    }
   ],
   "execution_count": 5
  },
  {
   "cell_type": "code",
   "id": "ee696026ce32f572",
   "metadata": {
    "ExecuteTime": {
     "end_time": "2024-10-20T05:38:39.871826Z",
     "start_time": "2024-10-20T05:38:39.740904Z"
    }
   },
   "source": [
    "import ot  # 导入 POT 库\n",
    "\n",
    "# 2. 选择标签为 0 和 1 的图像，并各取一个样本\n",
    "X1 = train_images_resized[train_labels == 2][10]  # 取第一个标签为 0 的样本\n",
    "X2 = train_images_resized[train_labels == 2][10]  # 取第一个标签为 1 的样本\n",
    "\n",
    "# 3. 计算两个图像之间的代价矩阵\n",
    "# 假设 X1 和 X2 都是展平后的图像向量 (784,)\n",
    "# 这里我们使用像素之间的平方欧氏距离作为代价矩阵\n",
    "X1 = X1.reshape(-1, 1)  # 将图像 X1 展平为 (400, 1)\n",
    "X2 = X2.reshape(-1, 1)  # 将图像 X2 展平为 (400, 1)\n",
    "cost_matrix = ot.dist(X1, X2, metric='euclidean')  # 计算平方欧氏距离作为代价矩阵\n",
    "\n",
    "# 4. 定义两个图像的权重分布（均匀分布）\n",
    "r = np.ones(X1.shape[0]) / X1.shape[0]  # 源分布权重 (784,)\n",
    "c = np.ones(X2.shape[0]) / X2.shape[0]  # 目标分布权重 (784,)\n",
    "\n",
    "# 5. 计算 Sinkhorn 距离\n",
    "# 使用 ot.sinkhorn2 方法计算带有正则化的 Sinkhorn 距离\n",
    "sinkhorn_distance = ot.sinkhorn2(r, c, cost_matrix, reg=1e-3)\n",
    "\n",
    "\n",
    "print(f\"Sinkhorn Distance: {sinkhorn_distance}\")\n"
   ],
   "outputs": [
    {
     "name": "stdout",
     "output_type": "stream",
     "text": [
      "Sinkhorn Distance: 5.378370809838502e-05\n"
     ]
    }
   ],
   "execution_count": 18
  },
  {
   "metadata": {
    "ExecuteTime": {
     "end_time": "2024-10-20T08:33:33.094928Z",
     "start_time": "2024-10-20T08:33:33.089926Z"
    }
   },
   "cell_type": "code",
   "source": "c.shape",
   "id": "68f39a18094bcb2",
   "outputs": [
    {
     "data": {
      "text/plain": [
       "(400,)"
      ]
     },
     "execution_count": 21,
     "metadata": {},
     "output_type": "execute_result"
    }
   ],
   "execution_count": 21
  },
  {
   "cell_type": "code",
   "id": "d3ae5170f6128a89",
   "metadata": {
    "ExecuteTime": {
     "end_time": "2024-10-16T03:09:42.168719Z",
     "start_time": "2024-10-16T03:09:42.153717Z"
    }
   },
   "source": [
    "def sinkhorn_kernel(X,Y,gamma=10):\n",
    "    n=X.shape[0]\n",
    "    m = Y.shape[0]\n",
    "    #初始化核矩阵\n",
    "    kernel_matrix = np.zeros((n,m))\n",
    "    # 逐对样本计算 Sinkhorn 距离，并转化为相似度\n",
    "    for i in range(n):\n",
    "        for j in range(m):\n",
    "            M=ot.dist(X[i], Y[j], metric='euclidean')\n",
    "            r = np.ones(X[i].shape[0]) / X[i].shape[0]  # 源分布权重 (400,)\n",
    "            c = np.ones(Y[j].shape[0]) / Y[j].shape[0]  # 目标分布权重 (400,)\n",
    "            sinkhorn_distance = ot.sinkhorn2(r, c, M, reg=9,stopThr=1e-9)\n",
    "            #论文里k=exp(-reg*M)\n",
    "            #库函数是 K = nx.exp(M / (-reg))\n",
    "            # 使用 RBF 核公式将距离转化为相似度\n",
    "            kernel_matrix[i, j] = np.exp(-gamma * sinkhorn_distance)\n",
    "            #内核exp(-d/t)\n",
    "    \n",
    "    return kernel_matrix\n",
    "    "
   ],
   "outputs": [],
   "execution_count": 18
  },
  {
   "cell_type": "code",
   "id": "fb93c24cae94d29b",
   "metadata": {
    "ExecuteTime": {
     "end_time": "2024-10-15T05:46:50.838514Z",
     "start_time": "2024-10-15T05:46:50.828511Z"
    }
   },
   "source": [
    "def emd_kernel(X, Y, gamma=0.1):\n",
    "    n = X.shape[0]\n",
    "    m = Y.shape[0]\n",
    "\n",
    "    # 初始化核矩阵\n",
    "    kernel_matrix = np.zeros((n, m))\n",
    "\n",
    "    # 逐对样本计算 EMD 距离，并转化为相似度\n",
    "    for i in range(n):\n",
    "        for j in range(m):\n",
    "            # 计算样本 i 和样本 j 之间的欧几里得距离矩阵\n",
    "            M = ot.dist(X[i], Y[j], metric='euclidean')\n",
    "\n",
    "            # 设置源分布和目标分布的权重，权重和为 1\n",
    "            r = np.ones(X[i].shape[0]) / X[i].shape[0]  # 源分布权重 (d,)\n",
    "            c = np.ones(Y[j].shape[0]) / Y[j].shape[0]  # 目标分布权重 (d,)\n",
    "\n",
    "            # 计算 EMD 距离\n",
    "            emd_distance = ot.emd2(r, c, M)\n",
    "\n",
    "            # 使用 RBF 核公式将距离转化为相似度\n",
    "            kernel_matrix[i, j] = np.exp(-gamma * emd_distance)\n",
    "\n",
    "    return kernel_matrix"
   ],
   "outputs": [],
   "execution_count": 6
  },
  {
   "cell_type": "code",
   "id": "c03d166a6da4d4e0",
   "metadata": {
    "ExecuteTime": {
     "end_time": "2024-10-15T05:46:57.211950Z",
     "start_time": "2024-10-15T05:46:51.344628Z"
    }
   },
   "source": [
    "import numpy as np\n",
    "import ot  # 需要安装 POT 库来使用 ot 模块\n",
    "\n",
    "def ind_kernel(X, Y, gamma=0.1):\n",
    "    n = X.shape[0]\n",
    "    m = Y.shape[0]\n",
    "\n",
    "    # 初始化核矩阵\n",
    "    kernel_matrix = np.zeros((n, m))\n",
    "\n",
    "    # 逐对样本计算 Independent Wasserstein Distance，并转化为相似度\n",
    "    for i in range(n):\n",
    "        for j in range(m):\n",
    "            # 将样本 i 和样本 j 看作独立维度上的分布\n",
    "            # 计算每个特征维度上的 Wasserstein 距离并求和\n",
    "            ind_distance = 0\n",
    "            for k in range(X.shape[1]):\n",
    "                # 计算样本 i 和样本 j 在第 k 个维度上的 Wasserstein 距离\n",
    "                M = ot.dist(X[i, k], Y[j, k], metric='euclidean')\n",
    "                r = np.ones(X[i, k].shape) / X[i, k].shape[0]\n",
    "                c = np.ones(Y[j, k].shape) / Y[j, k].shape[0]\n",
    "\n",
    "                # 计算第 k 维度的 EMD 距离\n",
    "                ind_distance += ot.emd2(r, c, M)\n",
    "            \n",
    "            # 使用 RBF 核公式将距离转化为相似度\n",
    "            kernel_matrix[i, j] = np.exp(-gamma * ind_distance)\n",
    "\n",
    "    return kernel_matrix\n"
   ],
   "outputs": [],
   "execution_count": 7
  },
  {
   "cell_type": "code",
   "id": "9b09521e8e729654",
   "metadata": {
    "ExecuteTime": {
     "end_time": "2024-10-15T05:46:57.227954Z",
     "start_time": "2024-10-15T05:46:57.212951Z"
    }
   },
   "source": [
    "def hellinger_kernel(X, Y, gamma=0.1):\n",
    "    n = X.shape[0]\n",
    "    m = Y.shape[0]\n",
    "    # 初始化核矩阵\n",
    "    kernel_matrix = np.zeros((n, m))\n",
    "    # 逐对样本计算 Hellinger 距离，并转化为相似度\n",
    "    for i in range(n):\n",
    "        for j in range(m):\n",
    "            # 计算两个分布的 Hellinger 距离\n",
    "            P = X[i] / np.sum(X[i])  # 确保 X[i] 是概率分布\n",
    "            Q = Y[j] / np.sum(Y[j])  # 确保 Y[j] 是概率分布\n",
    "            hellinger_distance = np.sqrt(np.sum((np.sqrt(P) - np.sqrt(Q))**2)) / np.sqrt(2)\n",
    "            # 使用 RBF 核公式将 Hellinger 距离转化为相似度\n",
    "            kernel_matrix[i, j] = np.exp(-gamma * hellinger_distance)\n",
    "    \n",
    "    return kernel_matrix\n"
   ],
   "outputs": [],
   "execution_count": 8
  },
  {
   "cell_type": "code",
   "id": "6459266714d40e6",
   "metadata": {
    "ExecuteTime": {
     "end_time": "2024-10-15T05:46:57.243958Z",
     "start_time": "2024-10-15T05:46:57.228954Z"
    }
   },
   "source": [
    "def chi2_kernel(X, Y, gamma=0.1):\n",
    "    n = X.shape[0]\n",
    "    m = Y.shape[0]\n",
    "    # 初始化核矩阵\n",
    "    kernel_matrix = np.zeros((n, m))\n",
    "    # 逐对样本计算 χ² 距离，并转化为相似度\n",
    "    for i in range(n):\n",
    "        for j in range(m):\n",
    "            P = X[i] / np.sum(X[i])  # 确保 X[i] 是概率分布\n",
    "            Q = Y[j] / np.sum(Y[j])  # 确保 Y[j] 是概率分布\n",
    "            # 避免除以零，P + Q 不能为零\n",
    "            chi2_distance = 0.5 * np.sum((P - Q) ** 2 / (P + Q + 1e-8))\n",
    "            # 使用 RBF 核公式将 χ² 距离转化为相似度\n",
    "            kernel_matrix[i, j] = np.exp(-gamma * chi2_distance)\n",
    "    \n",
    "    return kernel_matrix"
   ],
   "outputs": [],
   "execution_count": 9
  },
  {
   "cell_type": "code",
   "id": "db74eaebcf8e0fe7",
   "metadata": {
    "ExecuteTime": {
     "end_time": "2024-10-15T05:46:57.259964Z",
     "start_time": "2024-10-15T05:46:57.245959Z"
    }
   },
   "source": [
    "def tv_kernel(X, Y, gamma=0.1):\n",
    "    n = X.shape[0]\n",
    "    m = Y.shape[0]\n",
    "    # 初始化核矩阵\n",
    "    kernel_matrix = np.zeros((n, m))\n",
    "    # 逐对样本计算 TV 距离，并转化为相似度\n",
    "    for i in range(n):\n",
    "        for j in range(m):\n",
    "            P = X[i] / np.sum(X[i])  # 确保 X[i] 是概率分布\n",
    "            Q = Y[j] / np.sum(Y[j])  # 确保 Y[j] 是概率分布\n",
    "            # 计算 TV 距离\n",
    "            tv_distance = 0.5 * np.sum(np.abs(P - Q))\n",
    "            # 使用 RBF 核公式将 TV 距离转化为相似度\n",
    "            kernel_matrix[i, j] = np.exp(-gamma * tv_distance)\n",
    "    \n",
    "    return kernel_matrix\n"
   ],
   "outputs": [],
   "execution_count": 10
  },
  {
   "metadata": {
    "ExecuteTime": {
     "end_time": "2024-10-16T02:55:30.950884Z",
     "start_time": "2024-10-16T02:55:30.936881Z"
    }
   },
   "cell_type": "code",
   "source": [
    "def squared_euclidean_kernel(X, Y, gamma=0.1):\n",
    "    n = X.shape[0]\n",
    "    m = Y.shape[0]\n",
    "    # 初始化核矩阵\n",
    "    kernel_matrix = np.zeros((n, m))\n",
    "    \n",
    "    # 逐对样本计算平方欧几里得距离，并转化为相似度\n",
    "    for i in range(n):\n",
    "        for j in range(m):\n",
    "            # 计算平方欧几里得距离\n",
    "            squared_distance = np.sum((X[i] - Y[j]) ** 2)\n",
    "            # 使用 RBF 核公式将距离转化为相似度\n",
    "            kernel_matrix[i, j] = np.exp(-gamma * squared_distance)\n",
    "    \n",
    "    return kernel_matrix\n"
   ],
   "id": "ac23788fe9d9bd8e",
   "outputs": [],
   "execution_count": 9
  },
  {
   "cell_type": "code",
   "id": "d0fe45f2551fbf48",
   "metadata": {
    "ExecuteTime": {
     "end_time": "2024-10-13T02:47:39.222168Z",
     "start_time": "2024-10-13T02:47:39.173724Z"
    }
   },
   "source": [
    "#train_images=train_images_resized.reshape(train_images_resized.shape[0], 400,1)\n",
    "#test_images=test_images_resized.reshape(test_images_resized.shape[0], 400,1)"
   ],
   "outputs": [],
   "execution_count": 47
  },
  {
   "metadata": {
    "ExecuteTime": {
     "end_time": "2024-10-13T08:02:23.102721Z",
     "start_time": "2024-10-13T08:02:23.091718Z"
    }
   },
   "cell_type": "code",
   "source": "train_images.shape",
   "id": "8f000bdb54fdfbe4",
   "outputs": [
    {
     "data": {
      "text/plain": [
       "(60000, 28, 28)"
      ]
     },
     "execution_count": 12,
     "metadata": {},
     "output_type": "execute_result"
    }
   ],
   "execution_count": 12
  },
  {
   "metadata": {
    "ExecuteTime": {
     "end_time": "2024-10-16T02:55:34.609231Z",
     "start_time": "2024-10-16T02:55:34.589226Z"
    }
   },
   "cell_type": "code",
   "source": [
    "train_images_1000=train_images_resized[:1000]\n",
    "train_labels_1000=train_labels[:1000]\n",
    "test_images_1000=test_images_resized[:1000]\n",
    "test_labels_1000=test_labels[:1000]"
   ],
   "id": "93a1e93e7fcc0241",
   "outputs": [],
   "execution_count": 10
  },
  {
   "metadata": {
    "ExecuteTime": {
     "end_time": "2024-10-16T02:55:35.053031Z",
     "start_time": "2024-10-16T02:55:35.037521Z"
    }
   },
   "cell_type": "code",
   "source": [
    "train_images_3000=train_images_resized[:3000]\n",
    "train_labels_3000=train_labels[:3000]\n",
    "test_images_3000=test_images_resized[:3000]\n",
    "test_labels_3000=test_labels[:3000]"
   ],
   "id": "67c625220ee981fc",
   "outputs": [],
   "execution_count": 11
  },
  {
   "metadata": {
    "ExecuteTime": {
     "end_time": "2024-10-16T02:55:35.466252Z",
     "start_time": "2024-10-16T02:55:35.455251Z"
    }
   },
   "cell_type": "code",
   "source": [
    "train_images_5000=train_images_resized[:5000]\n",
    "train_labels_5000=train_labels[:5000]\n",
    "test_images_5000=test_images_resized[:5000]\n",
    "test_labels_5000=test_labels[:5000]"
   ],
   "id": "b8b19162b10a4b07",
   "outputs": [],
   "execution_count": 12
  },
  {
   "metadata": {
    "ExecuteTime": {
     "end_time": "2024-10-13T10:28:44.907664Z",
     "start_time": "2024-10-13T10:15:28.724653Z"
    }
   },
   "cell_type": "code",
   "source": [
    "# 计算训练集和测试集的 Sinkhorn 核矩阵 1000个样本 stopThr=1e-9\n",
    "\n",
    "train_kernel_matrix = sinkhorn_kernel(train_images_1000, train_images_1000)\n",
    "test_kernel_matrix = sinkhorn_kernel(test_images_1000, train_images_1000)  # 注意这里是测试集和训练集计算\n",
    "\n",
    "# 4. 使用 SVM 进行训练，注意 kernel='precomputed' 表示自定义核\n",
    "clf = svm.SVC(kernel='precomputed')\n",
    "clf.fit(train_kernel_matrix, train_labels_1000)\n",
    "\n",
    "# 5. 使用训练好的模型进行预测\n",
    "test_preds = clf.predict(test_kernel_matrix)\n",
    "\n",
    "# 6. 评估模型性能\n",
    "accuracy = accuracy_score(test_labels_1000, test_preds)\n",
    "print(f\"SVM + Sinkhorn Kernel Accuracy: {accuracy:.4f}\")\n"
   ],
   "id": "b15a0d1f05c25bf3",
   "outputs": [
    {
     "name": "stdout",
     "output_type": "stream",
     "text": [
      "SVM + Sinkhorn Kernel Accuracy: 0.3000\n"
     ]
    }
   ],
   "execution_count": 18
  },
  {
   "metadata": {
    "ExecuteTime": {
     "end_time": "2024-10-16T03:16:04.342952Z",
     "start_time": "2024-10-16T03:09:49.961567Z"
    }
   },
   "cell_type": "code",
   "source": [
    "# 计算训练集和测试集的 Sinkhorn 核矩阵 1000个样本 stopThr=1e-2\n",
    "\n",
    "train_kernel_matrix = sinkhorn_kernel(train_images_1000, train_images_1000)\n",
    "test_kernel_matrix = sinkhorn_kernel(test_images_1000, train_images_1000)  # 注意这里是测试集和训练集计算\n",
    "\n",
    "# 4. 使用 SVM 进行训练，注意 kernel='precomputed' 表示自定义核\n",
    "clf = svm.SVC(kernel='precomputed')\n",
    "clf.fit(train_kernel_matrix, train_labels_1000)\n",
    "\n",
    "# 5. 使用训练好的模型进行预测\n",
    "test_preds = clf.predict(test_kernel_matrix)\n",
    "\n",
    "# 6. 评估模型性能\n",
    "accuracy = accuracy_score(test_labels_1000, test_preds)\n",
    "print(f\"SVM + Sinkhorn Kernel Accuracy: {accuracy:.4f}\")\n"
   ],
   "id": "f224aaa1a4e552cf",
   "outputs": [
    {
     "name": "stdout",
     "output_type": "stream",
     "text": [
      "SVM + Sinkhorn Kernel Accuracy: 0.0970\n"
     ]
    }
   ],
   "execution_count": 19
  },
  {
   "metadata": {
    "ExecuteTime": {
     "end_time": "2024-10-16T06:24:04.973255Z",
     "start_time": "2024-10-16T06:24:04.942003Z"
    }
   },
   "cell_type": "code",
   "source": "train_kernel_matrix",
   "id": "9eb6f57c96472113",
   "outputs": [
    {
     "data": {
      "text/plain": [
       "array([[2.11968720e-06, 2.26485009e-07, 1.34831346e-07, ...,\n",
       "        5.33312887e-07, 4.58686325e-08, 8.01699105e-07],\n",
       "       [2.26526737e-07, 2.97078918e-07, 1.34308920e-07, ...,\n",
       "        2.74596966e-07, 5.54350440e-08, 2.36952967e-07],\n",
       "       [1.34835806e-07, 1.34316639e-07, 2.73471200e-07, ...,\n",
       "        2.04164494e-07, 6.32745426e-08, 2.16357445e-07],\n",
       "       ...,\n",
       "       [5.33366716e-07, 2.74585698e-07, 2.04160333e-07, ...,\n",
       "        7.35561027e-07, 7.18344048e-08, 5.47037737e-07],\n",
       "       [4.58743149e-08, 5.54373191e-08, 6.32736697e-08, ...,\n",
       "        7.18363923e-08, 5.73930520e-08, 6.59953400e-08],\n",
       "       [8.01732366e-07, 2.36957384e-07, 2.16362187e-07, ...,\n",
       "        5.47041980e-07, 6.59930539e-08, 1.44349882e-06]])"
      ]
     },
     "execution_count": 21,
     "metadata": {},
     "output_type": "execute_result"
    }
   ],
   "execution_count": 21
  },
  {
   "cell_type": "code",
   "id": "f9676b2df7e13724",
   "metadata": {
    "ExecuteTime": {
     "end_time": "2024-10-13T10:02:08.989791Z",
     "start_time": "2024-10-13T08:02:57.221905Z"
    }
   },
   "source": [
    "# 计算训练集和测试集的 Sinkhorn 核矩阵 3000个样本\n",
    "\n",
    "train_kernel_matrix = sinkhorn_kernel(train_images_3000, train_images_3000)\n",
    "test_kernel_matrix = sinkhorn_kernel(test_images_3000, train_images_3000)  # 注意这里是测试集和训练集计算\n",
    "\n",
    "# 4. 使用 SVM 进行训练，注意 kernel='precomputed' 表示自定义核\n",
    "clf = svm.SVC(kernel='precomputed')\n",
    "clf.fit(train_kernel_matrix, train_labels_3000)\n",
    "\n",
    "# 5. 使用训练好的模型进行预测\n",
    "test_preds = clf.predict(test_kernel_matrix)\n",
    "\n",
    "# 6. 评估模型性能\n",
    "accuracy = accuracy_score(test_labels_3000, test_preds)\n",
    "print(f\"SVM + Sinkhorn Kernel Accuracy: {accuracy:.4f}\")\n"
   ],
   "outputs": [
    {
     "name": "stdout",
     "output_type": "stream",
     "text": [
      "SVM + Sinkhorn Kernel Accuracy: 0.4640\n"
     ]
    }
   ],
   "execution_count": 14
  },
  {
   "metadata": {
    "ExecuteTime": {
     "start_time": "2024-10-14T02:15:41.422447Z"
    }
   },
   "cell_type": "code",
   "source": [
    "# 计算训练集和测试集的 Sinkhorn 核矩阵 5000个样本\n",
    "\n",
    "train_kernel_matrix = sinkhorn_kernel(train_images_5000, train_images_5000)\n",
    "test_kernel_matrix = sinkhorn_kernel(test_images_5000, train_images_5000)  # 注意这里是测试集和训练集计算\n",
    "\n",
    "# 4. 使用 SVM 进行训练，注意 kernel='precomputed' 表示自定义核\n",
    "clf = svm.SVC(kernel='precomputed')\n",
    "clf.fit(train_kernel_matrix, train_labels_5000)\n",
    "\n",
    "# 5. 使用训练好的模型进行预测\n",
    "test_preds = clf.predict(test_kernel_matrix)\n",
    "\n",
    "# 6. 评估模型性能\n",
    "accuracy = accuracy_score(test_labels_5000, test_preds)\n",
    "print(f\"SVM + Sinkhorn Kernel Accuracy: {accuracy:.4f}\")\n"
   ],
   "id": "8af133dc3a2083a6",
   "outputs": [],
   "execution_count": null
  },
  {
   "cell_type": "code",
   "id": "327c03fdc6f9f574",
   "metadata": {
    "ExecuteTime": {
     "end_time": "2024-10-13T10:37:37.679533Z",
     "start_time": "2024-10-13T10:29:36.244157Z"
    }
   },
   "source": [
    "# 计算训练集和测试集的 Emd 核矩阵 1000\n",
    "train_kernel_matrix = emd_kernel(train_images_1000, train_images_1000)\n",
    "test_kernel_matrix = emd_kernel(test_images_1000, train_images_1000)  # 注意这里是测试集和训练集计算\n",
    "\n",
    "# 使用 SVM 进行训练，注意 kernel='precomputed' 表示自定义核\n",
    "clf = svm.SVC(kernel='precomputed')\n",
    "clf.fit(train_kernel_matrix, train_labels_1000)\n",
    "\n",
    "# 使用训练好的模型进行预测\n",
    "test_preds = clf.predict(test_kernel_matrix)\n",
    "\n",
    "#评估模型性能\n",
    "accuracy = accuracy_score(test_labels_1000, test_preds)\n",
    "print(f\"SVM + Emd Kernel Accuracy: {accuracy:.4f}\")"
   ],
   "outputs": [
    {
     "name": "stdout",
     "output_type": "stream",
     "text": [
      "SVM + Emd Kernel Accuracy: 0.5570\n"
     ]
    }
   ],
   "execution_count": 19
  },
  {
   "metadata": {
    "ExecuteTime": {
     "end_time": "2024-10-15T01:59:24.533885Z",
     "start_time": "2024-10-15T00:42:59.492775Z"
    }
   },
   "cell_type": "code",
   "source": [
    "# 计算训练集和测试集的 Emd 核矩阵  3000\n",
    "train_kernel_matrix = emd_kernel(train_images_3000, train_images_3000)\n",
    "test_kernel_matrix = emd_kernel(test_images_3000, train_images_3000)  # 注意这里是测试集和训练集计算\n",
    "\n",
    "# 使用 SVM 进行训练，注意 kernel='precomputed' 表示自定义核\n",
    "clf = svm.SVC(kernel='precomputed')\n",
    "clf.fit(train_kernel_matrix, train_labels_3000)\n",
    "\n",
    "# 使用训练好的模型进行预测\n",
    "test_preds = clf.predict(test_kernel_matrix)\n",
    "\n",
    "#评估模型性能\n",
    "accuracy = accuracy_score(test_labels_3000, test_preds)\n",
    "print(f\"SVM + Emd Kernel Accuracy: {accuracy:.4f}\")"
   ],
   "id": "a372752ad6300b85",
   "outputs": [
    {
     "name": "stdout",
     "output_type": "stream",
     "text": [
      "SVM + Emd Kernel Accuracy: 0.7490\n"
     ]
    }
   ],
   "execution_count": 14
  },
  {
   "cell_type": "code",
   "id": "4f9981ab26d4333",
   "metadata": {
    "ExecuteTime": {
     "end_time": "2024-10-13T02:49:35.290860Z",
     "start_time": "2024-10-13T02:49:00.104634Z"
    }
   },
   "source": [
    "# 计算训练集和测试集的 hellinger 核矩阵 1000\n",
    "train_kernel_matrix = hellinger_kernel(train_images_1000, train_images_1000)\n",
    "test_kernel_matrix = hellinger_kernel(test_images_1000, train_images_1000)  # 注意这里是测试集和训练集计算\n",
    "\n",
    "# 使用 SVM 进行训练，注意 kernel='precomputed' 表示自定义核\n",
    "clf = svm.SVC(kernel='precomputed')\n",
    "clf.fit(train_kernel_matrix, train_labels_1000)\n",
    "\n",
    "# 使用训练好的模型进行预测\n",
    "test_preds = clf.predict(test_kernel_matrix)\n",
    "\n",
    "#评估模型性能\n",
    "accuracy = accuracy_score(test_labels_1000, test_preds)\n",
    "print(f\"SVM + Hell Kernel Accuracy: {accuracy:.4f}\")"
   ],
   "outputs": [
    {
     "name": "stdout",
     "output_type": "stream",
     "text": [
      "SVM + Hell Kernel Accuracy: 0.7270\n"
     ]
    }
   ],
   "execution_count": 52
  },
  {
   "metadata": {
    "ExecuteTime": {
     "end_time": "2024-10-15T05:52:24.416048Z",
     "start_time": "2024-10-15T05:47:13.499108Z"
    }
   },
   "cell_type": "code",
   "source": [
    "#3000\n",
    "train_kernel_matrix = hellinger_kernel(train_images_3000, train_images_3000)\n",
    "test_kernel_matrix = hellinger_kernel(test_images_3000, train_images_3000)  # 注意这里是测试集和训练集计算\n",
    "\n",
    "# 使用 SVM 进行训练，注意 kernel='precomputed' 表示自定义核\n",
    "clf = svm.SVC(kernel='precomputed')\n",
    "clf.fit(train_kernel_matrix, train_labels_3000)\n",
    "\n",
    "# 使用训练好的模型进行预测\n",
    "test_preds = clf.predict(test_kernel_matrix)\n",
    "\n",
    "#评估模型性能\n",
    "accuracy = accuracy_score(test_labels_3000, test_preds)\n",
    "print(f\"SVM + Hell Kernel Accuracy: {accuracy:.4f}\")"
   ],
   "id": "30811dc98b9fe146",
   "outputs": [
    {
     "name": "stdout",
     "output_type": "stream",
     "text": [
      "SVM + Hell Kernel Accuracy: 0.8963\n"
     ]
    }
   ],
   "execution_count": 14
  },
  {
   "metadata": {
    "ExecuteTime": {
     "end_time": "2024-10-15T06:06:53.433314Z",
     "start_time": "2024-10-15T05:52:24.418049Z"
    }
   },
   "cell_type": "code",
   "source": [
    "#5000\n",
    "train_kernel_matrix = hellinger_kernel(train_images_5000, train_images_5000)\n",
    "test_kernel_matrix = hellinger_kernel(test_images_5000, train_images_5000)  # 注意这里是测试集和训练集计算\n",
    "\n",
    "# 使用 SVM 进行训练，注意 kernel='precomputed' 表示自定义核\n",
    "clf = svm.SVC(kernel='precomputed')\n",
    "clf.fit(train_kernel_matrix, train_labels_5000)\n",
    "\n",
    "# 使用训练好的模型进行预测\n",
    "test_preds = clf.predict(test_kernel_matrix)\n",
    "\n",
    "#评估模型性能\n",
    "accuracy = accuracy_score(test_labels_5000, test_preds)\n",
    "print(f\"SVM + Hell Kernel Accuracy: {accuracy:.4f}\")"
   ],
   "id": "199fb0be3d28ab97",
   "outputs": [
    {
     "name": "stdout",
     "output_type": "stream",
     "text": [
      "SVM + Hell Kernel Accuracy: 0.9130\n"
     ]
    }
   ],
   "execution_count": 15
  },
  {
   "cell_type": "code",
   "id": "b6f06abd76952ddb",
   "metadata": {
    "ExecuteTime": {
     "end_time": "2024-10-13T02:50:22.887071Z",
     "start_time": "2024-10-13T02:49:50.039692Z"
    }
   },
   "source": [
    "# 计算训练集和测试集的 chi2 核矩阵 1000\n",
    "train_kernel_matrix = chi2_kernel(train_images_1000, train_images_1000)\n",
    "test_kernel_matrix = chi2_kernel(test_images_1000, train_images_1000)  # 注意这里是测试集和训练集计算\n",
    "\n",
    "# 使用 SVM 进行训练，注意 kernel='precomputed' 表示自定义核\n",
    "clf = svm.SVC(kernel='precomputed')\n",
    "clf.fit(train_kernel_matrix, train_labels_1000)\n",
    "\n",
    "# 使用训练好的模型进行预测\n",
    "test_preds = clf.predict(test_kernel_matrix)\n",
    "\n",
    "#评估模型性能\n",
    "accuracy = accuracy_score(test_labels_1000, test_preds)\n",
    "print(f\"SVM + chi Kernel Accuracy: {accuracy:.4f}\")"
   ],
   "outputs": [
    {
     "name": "stdout",
     "output_type": "stream",
     "text": [
      "SVM + chi Kernel Accuracy: 0.7720\n"
     ]
    }
   ],
   "execution_count": 53
  },
  {
   "metadata": {
    "ExecuteTime": {
     "end_time": "2024-10-15T03:08:04.154823Z",
     "start_time": "2024-10-15T03:02:53.495898Z"
    }
   },
   "cell_type": "code",
   "source": [
    "train_kernel_matrix = chi2_kernel(train_images_3000, train_images_3000)\n",
    "test_kernel_matrix = chi2_kernel(test_images_3000, train_images_3000)  # 注意这里是测试集和训练集计算\n",
    "\n",
    "# 使用 SVM 进行训练，注意 kernel='precomputed' 表示自定义核\n",
    "clf = svm.SVC(kernel='precomputed')\n",
    "clf.fit(train_kernel_matrix, train_labels_3000)\n",
    "\n",
    "# 使用训练好的模型进行预测\n",
    "test_preds = clf.predict(test_kernel_matrix)\n",
    "\n",
    "#评估模型性能\n",
    "accuracy = accuracy_score(test_labels_3000, test_preds)\n",
    "print(f\"SVM + chi Kernel Accuracy: {accuracy:.4f}\")"
   ],
   "id": "e98978889a63d948",
   "outputs": [
    {
     "name": "stdout",
     "output_type": "stream",
     "text": [
      "SVM + chi Kernel Accuracy: 0.8850\n"
     ]
    }
   ],
   "execution_count": 20
  },
  {
   "metadata": {
    "ExecuteTime": {
     "end_time": "2024-10-15T03:22:32.178632Z",
     "start_time": "2024-10-15T03:08:04.156823Z"
    }
   },
   "cell_type": "code",
   "source": [
    "train_kernel_matrix = chi2_kernel(train_images_5000, train_images_5000)\n",
    "test_kernel_matrix = chi2_kernel(test_images_5000, train_images_5000)  # 注意这里是测试集和训练集计算\n",
    "\n",
    "# 使用 SVM 进行训练，注意 kernel='precomputed' 表示自定义核\n",
    "clf = svm.SVC(kernel='precomputed')\n",
    "clf.fit(train_kernel_matrix, train_labels_5000)\n",
    "\n",
    "# 使用训练好的模型进行预测\n",
    "test_preds = clf.predict(test_kernel_matrix)\n",
    "\n",
    "#评估模型性能\n",
    "accuracy = accuracy_score(test_labels_5000, test_preds)\n",
    "print(f\"SVM + chi Kernel Accuracy: {accuracy:.4f}\")"
   ],
   "id": "957a16cb7c7f5bfa",
   "outputs": [
    {
     "name": "stdout",
     "output_type": "stream",
     "text": [
      "SVM + chi Kernel Accuracy: 0.9042\n"
     ]
    }
   ],
   "execution_count": 21
  },
  {
   "cell_type": "code",
   "id": "8556af16437708b7",
   "metadata": {
    "ExecuteTime": {
     "end_time": "2024-10-13T02:50:56.957009Z",
     "start_time": "2024-10-13T02:50:28.806321Z"
    }
   },
   "source": [
    "# 计算训练集和测试集的 tv 核矩阵\n",
    "train_kernel_matrix = tv_kernel(train_images_1000, train_images_1000)\n",
    "test_kernel_matrix = tv_kernel(test_images_1000, train_images_1000)  # 注意这里是测试集和训练集计算\n",
    "\n",
    "# 使用 SVM 进行训练，注意 kernel='precomputed' 表示自定义核\n",
    "clf = svm.SVC(kernel='precomputed')\n",
    "clf.fit(train_kernel_matrix, train_labels_1000)\n",
    "\n",
    "# 使用训练好的模型进行预测\n",
    "test_preds = clf.predict(test_kernel_matrix)\n",
    "\n",
    "#评估模型性能\n",
    "accuracy = accuracy_score(test_labels_1000, test_preds)\n",
    "print(f\"SVM + tv Kernel Accuracy: {accuracy:.4f}\")"
   ],
   "outputs": [
    {
     "name": "stdout",
     "output_type": "stream",
     "text": [
      "SVM + tv Kernel Accuracy: 0.7300\n"
     ]
    }
   ],
   "execution_count": 54
  },
  {
   "cell_type": "code",
   "id": "75056fb4f190ada2",
   "metadata": {
    "ExecuteTime": {
     "end_time": "2024-10-15T02:50:15.285538Z",
     "start_time": "2024-10-15T02:46:05.902007Z"
    }
   },
   "source": [
    "train_kernel_matrix = tv_kernel(train_images_3000, train_images_3000)\n",
    "test_kernel_matrix = tv_kernel(test_images_3000, train_images_3000)  # 注意这里是测试集和训练集计算\n",
    "\n",
    "# 使用 SVM 进行训练，注意 kernel='precomputed' 表示自定义核\n",
    "clf = svm.SVC(kernel='precomputed')\n",
    "clf.fit(train_kernel_matrix, train_labels_3000)\n",
    "\n",
    "# 使用训练好的模型进行预测\n",
    "test_preds = clf.predict(test_kernel_matrix)\n",
    "\n",
    "#评估模型性能\n",
    "accuracy = accuracy_score(test_labels_3000, test_preds)\n",
    "print(f\"SVM + tv Kernel Accuracy: {accuracy:.4f}\")"
   ],
   "outputs": [
    {
     "name": "stdout",
     "output_type": "stream",
     "text": [
      "SVM + tv Kernel Accuracy: 0.8807\n"
     ]
    }
   ],
   "execution_count": 18
  },
  {
   "metadata": {
    "ExecuteTime": {
     "end_time": "2024-10-15T03:02:18.069532Z",
     "start_time": "2024-10-15T02:50:29.084165Z"
    }
   },
   "cell_type": "code",
   "source": [
    "train_kernel_matrix = tv_kernel(train_images_5000, train_images_5000)\n",
    "test_kernel_matrix = tv_kernel(test_images_5000, train_images_5000)  # 注意这里是测试集和训练集计算\n",
    "\n",
    "# 使用 SVM 进行训练，注意 kernel='precomputed' 表示自定义核\n",
    "clf = svm.SVC(kernel='precomputed')\n",
    "clf.fit(train_kernel_matrix, train_labels_5000)\n",
    "\n",
    "# 使用训练好的模型进行预测\n",
    "test_preds = clf.predict(test_kernel_matrix)\n",
    "\n",
    "#评估模型性能\n",
    "accuracy = accuracy_score(test_labels_5000, test_preds)\n",
    "print(f\"SVM + tv Kernel Accuracy: {accuracy:.4f}\")"
   ],
   "id": "27f7cfbb89992895",
   "outputs": [
    {
     "name": "stdout",
     "output_type": "stream",
     "text": [
      "SVM + tv Kernel Accuracy: 0.8998\n"
     ]
    }
   ],
   "execution_count": 19
  },
  {
   "metadata": {
    "ExecuteTime": {
     "end_time": "2024-10-16T02:58:16.371515Z",
     "start_time": "2024-10-16T02:58:00.689355Z"
    }
   },
   "cell_type": "code",
   "source": [
    "# 计算训练集和测试集的 squared_euclidean_kernel 核矩阵\n",
    "train_kernel_matrix = squared_euclidean_kernel(train_images_1000, train_images_1000)\n",
    "test_kernel_matrix = squared_euclidean_kernel(test_images_1000, train_images_1000)  # 注意这里是测试集和训练集计算\n",
    "\n",
    "# 使用 SVM 进行训练，注意 kernel='precomputed' 表示自定义核\n",
    "clf = svm.SVC(kernel='precomputed')\n",
    "clf.fit(train_kernel_matrix, train_labels_1000)\n",
    "\n",
    "# 使用训练好的模型进行预测\n",
    "test_preds = clf.predict(test_kernel_matrix)\n",
    "\n",
    "#评估模型性能\n",
    "accuracy = accuracy_score(test_labels_1000, test_preds)\n",
    "print(f\"SVM + squared_euclidean_kernel Accuracy: {accuracy:.4f}\")"
   ],
   "id": "1f63fe151aa4dbf4",
   "outputs": [
    {
     "name": "stdout",
     "output_type": "stream",
     "text": [
      "SVM + squared_euclidean_kernel Accuracy: 0.9230\n"
     ]
    }
   ],
   "execution_count": 13
  },
  {
   "metadata": {
    "ExecuteTime": {
     "end_time": "2024-10-16T03:01:20.389171Z",
     "start_time": "2024-10-16T02:58:50.503489Z"
    }
   },
   "cell_type": "code",
   "source": [
    "# 计算训练集和测试集的 squared_euclidean_kernel 核矩阵\n",
    "train_kernel_matrix = squared_euclidean_kernel(train_images_3000, train_images_3000)\n",
    "test_kernel_matrix = squared_euclidean_kernel(test_images_3000, train_images_3000)  # 注意这里是测试集和训练集计算\n",
    "\n",
    "# 使用 SVM 进行训练，注意 kernel='precomputed' 表示自定义核\n",
    "clf = svm.SVC(kernel='precomputed')\n",
    "clf.fit(train_kernel_matrix, train_labels_3000)\n",
    "\n",
    "# 使用训练好的模型进行预测\n",
    "test_preds = clf.predict(test_kernel_matrix)\n",
    "\n",
    "#评估模型性能\n",
    "accuracy = accuracy_score(test_labels_3000, test_preds)\n",
    "print(f\"SVM + squared_euclidean_kernel Accuracy: {accuracy:.4f}\")"
   ],
   "id": "613445f52d50a579",
   "outputs": [
    {
     "name": "stdout",
     "output_type": "stream",
     "text": [
      "SVM + squared_euclidean_kernel Accuracy: 0.9513\n"
     ]
    }
   ],
   "execution_count": 14
  },
  {
   "metadata": {},
   "cell_type": "code",
   "outputs": [],
   "execution_count": null,
   "source": "",
   "id": "86880c0b2ac41230"
  }
 ],
 "metadata": {
  "kernelspec": {
   "display_name": "Python 3 (ipykernel)",
   "language": "python",
   "name": "python3"
  },
  "language_info": {
   "codemirror_mode": {
    "name": "ipython",
    "version": 3
   },
   "file_extension": ".py",
   "mimetype": "text/x-python",
   "name": "python",
   "nbconvert_exporter": "python",
   "pygments_lexer": "ipython3",
   "version": "3.11.7"
  }
 },
 "nbformat": 4,
 "nbformat_minor": 5
}
